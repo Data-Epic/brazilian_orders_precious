{
 "cells": [
  {
   "cell_type": "code",
   "execution_count": 10,
   "metadata": {},
   "outputs": [],
   "source": [
    "from sqlalchemy import create_engine, Sequence, Column, Integer, String, Float, DateTime\n",
    "from sqlalchemy.orm import sessionmaker, declarative_base\n",
    "import polars as pl"
   ]
  },
  {
   "cell_type": "code",
   "execution_count": 11,
   "metadata": {},
   "outputs": [],
   "source": [
    "Base = declarative_base()\n"
   ]
  },
  {
   "cell_type": "code",
   "execution_count": 12,
   "metadata": {},
   "outputs": [],
   "source": [
    "# ORM model\n",
    "class Order(Base):\n",
    "    __tablename__ = 'orders'\n",
    "\n",
    "    id = Column(Integer, Sequence('id'), primary_key=True)\n",
    "    order_id = Column(String)\n",
    "    customer_unique_id = Column(String)\n",
    "    order_status = Column(String)\n",
    "    order_purchase_timestamp = Column(DateTime)\n",
    "    order_approved_at = Column(DateTime)\n",
    "    order_delivered_carrier_date = Column(DateTime)\n",
    "    order_delivered_customer_date = Column(DateTime)\n",
    "    order_estimated_delivery_date = Column(DateTime)\n",
    "    item_quantity = Column(Integer)\n",
    "    price = Column(Float)\n",
    "    freight_value = Column(Float)\n",
    "    product_id = Column(String)\n",
    "    product_category_name = Column(String)\n",
    "    product_category_name_english = Column(String)\n",
    "    customer_city = Column(String)\n",
    "    seller_id = Column(String)\n",
    "    seller_city = Column(String)\n",
    "    payment_installments = Column(Integer)\n",
    "    payment_value = Column(Float)\n",
    "    review_score = Column(Integer)"
   ]
  },
  {
   "cell_type": "code",
   "execution_count": 17,
   "metadata": {},
   "outputs": [],
   "source": [
    "\n",
    "def setup_database(db_path):\n",
    "    engine = create_engine(f'duckdb:///{db_path}')\n",
    "    Base.metadata.create_all(engine)\n",
    "    return engine\n",
    "\n",
    "def create_session(engine):\n",
    "    Session = sessionmaker(bind=engine)\n",
    "    return Session()"
   ]
  },
  {
   "cell_type": "code",
   "execution_count": 14,
   "metadata": {},
   "outputs": [],
   "source": [
    "import os\n",
    "WORKING_DIR = os.path.abspath('../data')\n",
    "db_path = f'{WORKING_DIR}/orders.db'\n",
    "\n",
    "# Load relevant CSV files\n",
    "customers_df = pl.read_csv(f'{WORKING_DIR}/olist_customers_dataset.csv')\n",
    "orders_df = pl.read_csv(f'{WORKING_DIR}/olist_orders_dataset.csv')\n",
    "order_items_df = pl.read_csv(f'{WORKING_DIR}/olist_order_items_dataset.csv')\n",
    "payments_df = pl.read_csv(f'{WORKING_DIR}/olist_order_payments_dataset.csv')\n",
    "reviews_df = pl.read_csv(f'{WORKING_DIR}/olist_order_reviews_dataset.csv')\n",
    "products_df = pl.read_csv(f'{WORKING_DIR}/olist_products_dataset.csv')\n",
    "sellers_df = pl.read_csv(f'{WORKING_DIR}/olist_sellers_dataset.csv')\n",
    "product_translation_df =pl.read_csv(f'{WORKING_DIR}/product_category_name_translation.csv')\n",
    "\n",
    "\n"
   ]
  },
  {
   "cell_type": "code",
   "execution_count": 15,
   "metadata": {},
   "outputs": [
    {
     "data": {
      "text/html": [
       "<div><style>\n",
       ".dataframe > thead > tr,\n",
       ".dataframe > tbody > tr {\n",
       "  text-align: right;\n",
       "  white-space: pre-wrap;\n",
       "}\n",
       "</style>\n",
       "<small>shape: (9, 21)</small><table border=\"1\" class=\"dataframe\"><thead><tr><th>statistic</th><th>order_id</th><th>customer_unique_id</th><th>order_status</th><th>order_purchase_timestamp</th><th>order_approved_at</th><th>order_delivered_carrier_date</th><th>order_delivered_customer_date</th><th>order_estimated_delivery_date</th><th>customer_city</th><th>price</th><th>freight_value</th><th>product_id</th><th>product_category_name</th><th>seller_id</th><th>item_quantity</th><th>payment_installments</th><th>payment_value</th><th>review_score</th><th>seller_city</th><th>product_category_name_english</th></tr><tr><td>str</td><td>str</td><td>str</td><td>str</td><td>str</td><td>str</td><td>str</td><td>str</td><td>str</td><td>str</td><td>f64</td><td>f64</td><td>str</td><td>str</td><td>str</td><td>f64</td><td>f64</td><td>f64</td><td>f64</td><td>str</td><td>str</td></tr></thead><tbody><tr><td>&quot;count&quot;</td><td>&quot;99441&quot;</td><td>&quot;99441&quot;</td><td>&quot;99441&quot;</td><td>&quot;99441&quot;</td><td>&quot;99281&quot;</td><td>&quot;97658&quot;</td><td>&quot;96476&quot;</td><td>&quot;99441&quot;</td><td>&quot;99441&quot;</td><td>98666.0</td><td>98666.0</td><td>&quot;98666&quot;</td><td>&quot;97250&quot;</td><td>&quot;98666&quot;</td><td>98666.0</td><td>99440.0</td><td>99440.0</td><td>98673.0</td><td>&quot;98666&quot;</td><td>&quot;97229&quot;</td></tr><tr><td>&quot;null_count&quot;</td><td>&quot;0&quot;</td><td>&quot;0&quot;</td><td>&quot;0&quot;</td><td>&quot;0&quot;</td><td>&quot;160&quot;</td><td>&quot;1783&quot;</td><td>&quot;2965&quot;</td><td>&quot;0&quot;</td><td>&quot;0&quot;</td><td>775.0</td><td>775.0</td><td>&quot;775&quot;</td><td>&quot;2191&quot;</td><td>&quot;775&quot;</td><td>775.0</td><td>1.0</td><td>1.0</td><td>768.0</td><td>&quot;775&quot;</td><td>&quot;2212&quot;</td></tr><tr><td>&quot;mean&quot;</td><td>null</td><td>null</td><td>null</td><td>null</td><td>null</td><td>null</td><td>null</td><td>null</td><td>null</td><td>137.754076</td><td>22.823562</td><td>null</td><td>null</td><td>null</td><td>1.141731</td><td>2.915617</td><td>160.990267</td><td>4.086174</td><td>null</td><td>null</td></tr><tr><td>&quot;std&quot;</td><td>null</td><td>null</td><td>null</td><td>null</td><td>null</td><td>null</td><td>null</td><td>null</td><td>null</td><td>210.645145</td><td>21.650909</td><td>null</td><td>null</td><td>null</td><td>0.538452</td><td>2.709861</td><td>221.951257</td><td>1.346642</td><td>null</td><td>null</td></tr><tr><td>&quot;min&quot;</td><td>&quot;00010242fe8c5a6d1ba2dd792cb162…</td><td>&quot;0000366f3b9a7992bf8c76cfdf3221…</td><td>&quot;approved&quot;</td><td>&quot;2016-09-04 21:15:19&quot;</td><td>&quot;2016-09-15 12:16:38&quot;</td><td>&quot;2016-10-08 10:34:01&quot;</td><td>&quot;2016-10-11 13:46:32&quot;</td><td>&quot;2016-09-30 00:00:00&quot;</td><td>&quot;abadia dos dourados&quot;</td><td>0.85</td><td>0.0</td><td>&quot;00066f42aeeb9f3007548bb9d3f33c…</td><td>&quot;agro_industria_e_comercio&quot;</td><td>&quot;0015a82c2db000af6aaaf3ae2ecb05…</td><td>1.0</td><td>0.0</td><td>0.0</td><td>1.0</td><td>&quot;4482255&quot;</td><td>&quot;agro_industry_and_commerce&quot;</td></tr><tr><td>&quot;25%&quot;</td><td>null</td><td>null</td><td>null</td><td>null</td><td>null</td><td>null</td><td>null</td><td>null</td><td>null</td><td>45.9</td><td>13.85</td><td>null</td><td>null</td><td>null</td><td>1.0</td><td>1.0</td><td>62.01</td><td>4.0</td><td>null</td><td>null</td></tr><tr><td>&quot;50%&quot;</td><td>null</td><td>null</td><td>null</td><td>null</td><td>null</td><td>null</td><td>null</td><td>null</td><td>null</td><td>86.9</td><td>17.17</td><td>null</td><td>null</td><td>null</td><td>1.0</td><td>2.0</td><td>105.29</td><td>5.0</td><td>null</td><td>null</td></tr><tr><td>&quot;75%&quot;</td><td>null</td><td>null</td><td>null</td><td>null</td><td>null</td><td>null</td><td>null</td><td>null</td><td>null</td><td>149.9</td><td>24.04</td><td>null</td><td>null</td><td>null</td><td>1.0</td><td>4.0</td><td>176.97</td><td>5.0</td><td>null</td><td>null</td></tr><tr><td>&quot;max&quot;</td><td>&quot;fffe41c64501cc87c801fd61db3f62…</td><td>&quot;ffffd2657e2aad2907e67c3e9daecb…</td><td>&quot;unavailable&quot;</td><td>&quot;2018-10-17 17:30:18&quot;</td><td>&quot;2018-09-03 17:40:06&quot;</td><td>&quot;2018-09-11 19:48:28&quot;</td><td>&quot;2018-10-17 13:22:46&quot;</td><td>&quot;2018-11-12 00:00:00&quot;</td><td>&quot;zortea&quot;</td><td>13440.0</td><td>1794.96</td><td>&quot;fffe9eeff12fcbd74a2f2b007dde0c…</td><td>&quot;utilidades_domesticas&quot;</td><td>&quot;ffff564a4f9085cd26170f47323937…</td><td>21.0</td><td>24.0</td><td>13664.08</td><td>5.0</td><td>&quot;xaxim&quot;</td><td>&quot;watches_gifts&quot;</td></tr></tbody></table></div>"
      ],
      "text/plain": [
       "shape: (9, 21)\n",
       "┌───────────┬───────────┬───────────┬───────────┬───┬───────────┬───────────┬───────────┬──────────┐\n",
       "│ statistic ┆ order_id  ┆ customer_ ┆ order_sta ┆ … ┆ payment_v ┆ review_sc ┆ seller_ci ┆ product_ │\n",
       "│ ---       ┆ ---       ┆ unique_id ┆ tus       ┆   ┆ alue      ┆ ore       ┆ ty        ┆ category │\n",
       "│ str       ┆ str       ┆ ---       ┆ ---       ┆   ┆ ---       ┆ ---       ┆ ---       ┆ _name_en │\n",
       "│           ┆           ┆ str       ┆ str       ┆   ┆ f64       ┆ f64       ┆ str       ┆ glish    │\n",
       "│           ┆           ┆           ┆           ┆   ┆           ┆           ┆           ┆ ---      │\n",
       "│           ┆           ┆           ┆           ┆   ┆           ┆           ┆           ┆ str      │\n",
       "╞═══════════╪═══════════╪═══════════╪═══════════╪═══╪═══════════╪═══════════╪═══════════╪══════════╡\n",
       "│ count     ┆ 99441     ┆ 99441     ┆ 99441     ┆ … ┆ 99440.0   ┆ 98673.0   ┆ 98666     ┆ 97229    │\n",
       "│ null_coun ┆ 0         ┆ 0         ┆ 0         ┆ … ┆ 1.0       ┆ 768.0     ┆ 775       ┆ 2212     │\n",
       "│ t         ┆           ┆           ┆           ┆   ┆           ┆           ┆           ┆          │\n",
       "│ mean      ┆ null      ┆ null      ┆ null      ┆ … ┆ 160.99026 ┆ 4.086174  ┆ null      ┆ null     │\n",
       "│           ┆           ┆           ┆           ┆   ┆ 7         ┆           ┆           ┆          │\n",
       "│ std       ┆ null      ┆ null      ┆ null      ┆ … ┆ 221.95125 ┆ 1.346642  ┆ null      ┆ null     │\n",
       "│           ┆           ┆           ┆           ┆   ┆ 7         ┆           ┆           ┆          │\n",
       "│ min       ┆ 00010242f ┆ 0000366f3 ┆ approved  ┆ … ┆ 0.0       ┆ 1.0       ┆ 4482255   ┆ agro_ind │\n",
       "│           ┆ e8c5a6d1b ┆ b9a7992bf ┆           ┆   ┆           ┆           ┆           ┆ ustry_an │\n",
       "│           ┆ a2dd792cb ┆ 8c76cfdf3 ┆           ┆   ┆           ┆           ┆           ┆ d_commer │\n",
       "│           ┆ 162…      ┆ 221…      ┆           ┆   ┆           ┆           ┆           ┆ ce       │\n",
       "│ 25%       ┆ null      ┆ null      ┆ null      ┆ … ┆ 62.01     ┆ 4.0       ┆ null      ┆ null     │\n",
       "│ 50%       ┆ null      ┆ null      ┆ null      ┆ … ┆ 105.29    ┆ 5.0       ┆ null      ┆ null     │\n",
       "│ 75%       ┆ null      ┆ null      ┆ null      ┆ … ┆ 176.97    ┆ 5.0       ┆ null      ┆ null     │\n",
       "│ max       ┆ fffe41c64 ┆ ffffd2657 ┆ unavailab ┆ … ┆ 13664.08  ┆ 5.0       ┆ xaxim     ┆ watches_ │\n",
       "│           ┆ 501cc87c8 ┆ e2aad2907 ┆ le        ┆   ┆           ┆           ┆           ┆ gifts    │\n",
       "│           ┆ 01fd61db3 ┆ e67c3e9da ┆           ┆   ┆           ┆           ┆           ┆          │\n",
       "│           ┆ f62…      ┆ ecb…      ┆           ┆   ┆           ┆           ┆           ┆          │\n",
       "└───────────┴───────────┴───────────┴───────────┴───┴───────────┴───────────┴───────────┴──────────┘"
      ]
     },
     "execution_count": 15,
     "metadata": {},
     "output_type": "execute_result"
    }
   ],
   "source": [
    "# Join orders with customers\n",
    "orders_with_customers = orders_df.join(customers_df, on='customer_id', how='left')\n",
    "\n",
    "# Join order items with products and product name in english\n",
    "order_items_with_products = order_items_df.join(products_df, on='product_id', how='left')\n",
    "\n",
    "# Aggregate order items to get total price and quantity\n",
    "order_items_agg = order_items_with_products.group_by('order_id').agg([\n",
    "    pl.sum('price').alias('price'),\n",
    "    pl.sum('freight_value').alias('freight_value'),\n",
    "    pl.first('product_id'),\n",
    "    pl.first('product_category_name'),\n",
    "    pl.first('seller_id'),\n",
    "    pl.count('order_item_id').alias('item_quantity')\n",
    "])\n",
    "\n",
    "# Aggregate payments to get total payments for each order\n",
    "# (took out the payment type and sequential number because they are different for each payment)\n",
    "payments_agg = payments_df.group_by('order_id').agg([\n",
    "    pl.first('payment_installments'),\n",
    "    pl.sum('payment_value').alias('payment_value')\n",
    "])\n",
    "\n",
    "# Get average review score by order_id\n",
    "reviews_agg = reviews_df.group_by('order_id').agg([\n",
    "    pl.mean('review_score').cast(pl.Int32).alias('review_score')\n",
    "])\n",
    "\n",
    "# Merge orders_with_customers and order_items_agg\n",
    "orders_full = orders_with_customers.join(order_items_agg, on='order_id', how='left')\n",
    "\n",
    "\n",
    "# Merge with payments\n",
    "orders_full = orders_full.join(payments_agg, on='order_id', how='left')\n",
    "\n",
    "# Merge with reviews and sellers\n",
    "orders_full = orders_full.join(sellers_df, on='seller_id', how='left')\n",
    "\n",
    "orders_full = orders_full.join(reviews_agg, on='order_id', how='left')\n",
    "\n",
    "# Merge with product category name translation\n",
    "orders_full = orders_full.join(product_translation_df, on='product_category_name', how='left')\n",
    "\n",
    "# Final orders dataframe with necessary columns\n",
    "final_orders_df = orders_full.select([\n",
    "    'order_id',\n",
    "    'customer_unique_id',\n",
    "    'order_status',\n",
    "    'order_purchase_timestamp',\n",
    "    'order_approved_at',\n",
    "    'order_delivered_carrier_date',\n",
    "    'order_delivered_customer_date',\n",
    "    'order_estimated_delivery_date',\n",
    "    'customer_city',\n",
    "    'price',\n",
    "    'freight_value',\n",
    "    'product_id',\n",
    "    'product_category_name',\n",
    "    'seller_id',\n",
    "    'item_quantity',\n",
    "    'payment_installments',\n",
    "    'payment_value',\n",
    "    'review_score',\n",
    "    'seller_city',\n",
    "    'product_category_name_english'\n",
    "    ])\n",
    "\n",
    "final_orders_df.describe()\n",
    "\n",
    "\n",
    "\n",
    "\n",
    "\n"
   ]
  },
  {
   "cell_type": "code",
   "execution_count": 19,
   "metadata": {},
   "outputs": [],
   "source": [
    "\n",
    "# Setup the database and create an engine. \n",
    "engine = setup_database(db_path)\n",
    "\n",
    "# Create a session\n",
    "session = create_session(engine)\n",
    "\n",
    "try:\n",
    "    # convert dataframe to a list of dictionaries -> converts each row to a dictonary\n",
    "    records = final_orders_df.to_dicts()\n",
    "\n",
    "    # Create instances of Record from records dict and inserts each into the database\n",
    "    for record in records:\n",
    "        order = Order(**record)\n",
    "        session.add(order)\n",
    "\n",
    "    # Commit the transaction\n",
    "    session.commit()\n",
    "\n",
    "except Exception as e:\n",
    "    # Catch any type of exception\n",
    "    print(f\"An error occurred: {e}\")\n",
    "    session.rollback()  # Rollback the transaction to avoid partial commits\n",
    "\n",
    "finally:\n",
    "    # Close the session\n",
    "    session.close()\n"
   ]
  },
  {
   "cell_type": "code",
   "execution_count": 20,
   "metadata": {},
   "outputs": [
    {
     "name": "stdout",
     "output_type": "stream",
     "text": [
      "e481f51cbdc54678b7cc49136f2d6af7 7c396fd4830fd04220f754e42b4e5bff delivered\n",
      "53cdb2fc8bc7dce0b6741e2150273451 af07308b275d755c9edb36a90c618231 delivered\n",
      "47770eb9100c2d0c44946d9cf07ec65d 3a653a41f6f9fc3d2a113cf8398680e8 delivered\n",
      "949d5b44dbf5de918fe9c16f97b45f8a 7c142cf63193a1473d2e66489a9ae977 delivered\n",
      "ad21c59c0840e6cb83a9ceb5573f8159 72632f0f9dd73dfee390c9b22eb56dd6 delivered\n"
     ]
    }
   ],
   "source": [
    "# Query the database\n",
    "session = create_session(engine)\n",
    "query = session.query(Order).filter(Order.order_status == 'delivered').limit(5)\n",
    "\n",
    "for order in query:\n",
    "    print(order.order_id, order.customer_unique_id, order.order_status) # Print the order_id, customer_unique_id and order_status\n",
    "    "
   ]
  }
 ],
 "metadata": {
  "kernelspec": {
   "display_name": "week4",
   "language": "python",
   "name": "python3"
  },
  "language_info": {
   "codemirror_mode": {
    "name": "ipython",
    "version": 3
   },
   "file_extension": ".py",
   "mimetype": "text/x-python",
   "name": "python",
   "nbconvert_exporter": "python",
   "pygments_lexer": "ipython3",
   "version": "3.10.12"
  }
 },
 "nbformat": 4,
 "nbformat_minor": 2
}
